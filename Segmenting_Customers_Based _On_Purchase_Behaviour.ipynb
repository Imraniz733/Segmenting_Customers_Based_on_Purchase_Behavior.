{
 "cells": [
  {
   "cell_type": "markdown",
   "id": "41d78888-b6ac-4907-9544-44fd477a5a83",
   "metadata": {},
   "source": [
    "# The Objective of this project is to Segmenting Customers Based on purchase Behaviour"
   ]
  },
  {
   "cell_type": "markdown",
   "id": "344c1987-fa6d-46ae-9e90-a83b1e4ec3d8",
   "metadata": {},
   "source": [
    "## Step 1: Load the Data"
   ]
  },
  {
   "cell_type": "code",
   "execution_count": 3,
   "id": "36a40a18-633c-4c04-8e11-9e7061d97f01",
   "metadata": {},
   "outputs": [
    {
     "name": "stdout",
     "output_type": "stream",
     "text": [
      "['Cleaned_dataset.csv', 'duplicate_raws.csv', 'Online_Retail.csv', 'Online_Retail.xlsx', 'RFM Analysis.png', 'RFM_Analysis.csv', 'rfm_combined.csv', 'rows_with_zero_unitprice.csv', 'Sales Dashboard.png', 'Sales, RFM Dashboards.pdf', 'Sales.csv', 'Segmenting_Customers.pbit', 'Segmenting_Customers.pbix', 'Segmenting_Customers_Based _On_Purchase_Behaviour.ipynb', 'Tableau Superstore RFM Analysis Blog.png']\n"
     ]
    }
   ],
   "source": [
    "import os\n",
    "os.chdir(r'C:\\Users\\Lenovo\\Documents\\Segmenting_customers')\n",
    "print(os.listdir())"
   ]
  },
  {
   "cell_type": "code",
   "execution_count": 4,
   "id": "abedd735-1364-40a8-9c87-f13be930b49f",
   "metadata": {},
   "outputs": [],
   "source": [
    "import pandas as pd\n",
    "import numpy as np\n",
    "import matplotlib.pyplot as plt\n",
    "import datetime as dt\n",
    "import openpyxl"
   ]
  },
  {
   "cell_type": "code",
   "execution_count": 5,
   "id": "4cbda6b8-a93f-40b8-b853-535357c8a1be",
   "metadata": {},
   "outputs": [],
   "source": [
    "# Changed encoding to 'ISO-8859-1' (ANSI) because the file does not support UTF-8 and requires compatibility.\n",
    "df = pd.read_csv('Online_Retail.csv', encoding='ISO-8859-1')"
   ]
  },
  {
   "cell_type": "code",
   "execution_count": 6,
   "id": "2ec08e61-6a39-4056-b9f8-f77e93888084",
   "metadata": {},
   "outputs": [
    {
     "data": {
      "text/html": [
       "<div>\n",
       "<style scoped>\n",
       "    .dataframe tbody tr th:only-of-type {\n",
       "        vertical-align: middle;\n",
       "    }\n",
       "\n",
       "    .dataframe tbody tr th {\n",
       "        vertical-align: top;\n",
       "    }\n",
       "\n",
       "    .dataframe thead th {\n",
       "        text-align: right;\n",
       "    }\n",
       "</style>\n",
       "<table border=\"1\" class=\"dataframe\">\n",
       "  <thead>\n",
       "    <tr style=\"text-align: right;\">\n",
       "      <th></th>\n",
       "      <th>InvoiceNo</th>\n",
       "      <th>StockCode</th>\n",
       "      <th>Description</th>\n",
       "      <th>Quantity</th>\n",
       "      <th>InvoiceDate</th>\n",
       "      <th>UnitPrice</th>\n",
       "      <th>CustomerID</th>\n",
       "      <th>Country</th>\n",
       "    </tr>\n",
       "  </thead>\n",
       "  <tbody>\n",
       "    <tr>\n",
       "      <th>0</th>\n",
       "      <td>536365</td>\n",
       "      <td>85123A</td>\n",
       "      <td>WHITE HANGING HEART T-LIGHT HOLDER</td>\n",
       "      <td>6</td>\n",
       "      <td>01-12-2010 08:26</td>\n",
       "      <td>2.55</td>\n",
       "      <td>17850.0</td>\n",
       "      <td>United Kingdom</td>\n",
       "    </tr>\n",
       "    <tr>\n",
       "      <th>1</th>\n",
       "      <td>536365</td>\n",
       "      <td>71053</td>\n",
       "      <td>WHITE METAL LANTERN</td>\n",
       "      <td>6</td>\n",
       "      <td>01-12-2010 08:26</td>\n",
       "      <td>3.39</td>\n",
       "      <td>17850.0</td>\n",
       "      <td>United Kingdom</td>\n",
       "    </tr>\n",
       "    <tr>\n",
       "      <th>2</th>\n",
       "      <td>536365</td>\n",
       "      <td>84406B</td>\n",
       "      <td>CREAM CUPID HEARTS COAT HANGER</td>\n",
       "      <td>8</td>\n",
       "      <td>01-12-2010 08:26</td>\n",
       "      <td>2.75</td>\n",
       "      <td>17850.0</td>\n",
       "      <td>United Kingdom</td>\n",
       "    </tr>\n",
       "    <tr>\n",
       "      <th>3</th>\n",
       "      <td>536365</td>\n",
       "      <td>84029G</td>\n",
       "      <td>KNITTED UNION FLAG HOT WATER BOTTLE</td>\n",
       "      <td>6</td>\n",
       "      <td>01-12-2010 08:26</td>\n",
       "      <td>3.39</td>\n",
       "      <td>17850.0</td>\n",
       "      <td>United Kingdom</td>\n",
       "    </tr>\n",
       "    <tr>\n",
       "      <th>4</th>\n",
       "      <td>536365</td>\n",
       "      <td>84029E</td>\n",
       "      <td>RED WOOLLY HOTTIE WHITE HEART.</td>\n",
       "      <td>6</td>\n",
       "      <td>01-12-2010 08:26</td>\n",
       "      <td>3.39</td>\n",
       "      <td>17850.0</td>\n",
       "      <td>United Kingdom</td>\n",
       "    </tr>\n",
       "    <tr>\n",
       "      <th>...</th>\n",
       "      <td>...</td>\n",
       "      <td>...</td>\n",
       "      <td>...</td>\n",
       "      <td>...</td>\n",
       "      <td>...</td>\n",
       "      <td>...</td>\n",
       "      <td>...</td>\n",
       "      <td>...</td>\n",
       "    </tr>\n",
       "    <tr>\n",
       "      <th>541900</th>\n",
       "      <td>581587</td>\n",
       "      <td>22613</td>\n",
       "      <td>PACK OF 20 SPACEBOY NAPKINS</td>\n",
       "      <td>12</td>\n",
       "      <td>09-12-2011 12:50</td>\n",
       "      <td>0.85</td>\n",
       "      <td>12680.0</td>\n",
       "      <td>France</td>\n",
       "    </tr>\n",
       "    <tr>\n",
       "      <th>541901</th>\n",
       "      <td>581587</td>\n",
       "      <td>22899</td>\n",
       "      <td>CHILDREN'S APRON DOLLY GIRL</td>\n",
       "      <td>6</td>\n",
       "      <td>09-12-2011 12:50</td>\n",
       "      <td>2.10</td>\n",
       "      <td>12680.0</td>\n",
       "      <td>France</td>\n",
       "    </tr>\n",
       "    <tr>\n",
       "      <th>541902</th>\n",
       "      <td>581587</td>\n",
       "      <td>23254</td>\n",
       "      <td>CHILDRENS CUTLERY DOLLY GIRL</td>\n",
       "      <td>4</td>\n",
       "      <td>09-12-2011 12:50</td>\n",
       "      <td>4.15</td>\n",
       "      <td>12680.0</td>\n",
       "      <td>France</td>\n",
       "    </tr>\n",
       "    <tr>\n",
       "      <th>541903</th>\n",
       "      <td>581587</td>\n",
       "      <td>23255</td>\n",
       "      <td>CHILDRENS CUTLERY CIRCUS PARADE</td>\n",
       "      <td>4</td>\n",
       "      <td>09-12-2011 12:50</td>\n",
       "      <td>4.15</td>\n",
       "      <td>12680.0</td>\n",
       "      <td>France</td>\n",
       "    </tr>\n",
       "    <tr>\n",
       "      <th>541904</th>\n",
       "      <td>581587</td>\n",
       "      <td>22138</td>\n",
       "      <td>BAKING SET 9 PIECE RETROSPOT</td>\n",
       "      <td>3</td>\n",
       "      <td>09-12-2011 12:50</td>\n",
       "      <td>4.95</td>\n",
       "      <td>12680.0</td>\n",
       "      <td>France</td>\n",
       "    </tr>\n",
       "  </tbody>\n",
       "</table>\n",
       "<p>541905 rows × 8 columns</p>\n",
       "</div>"
      ],
      "text/plain": [
       "       InvoiceNo StockCode                          Description  Quantity  \\\n",
       "0         536365    85123A   WHITE HANGING HEART T-LIGHT HOLDER         6   \n",
       "1         536365     71053                  WHITE METAL LANTERN         6   \n",
       "2         536365    84406B       CREAM CUPID HEARTS COAT HANGER         8   \n",
       "3         536365    84029G  KNITTED UNION FLAG HOT WATER BOTTLE         6   \n",
       "4         536365    84029E       RED WOOLLY HOTTIE WHITE HEART.         6   \n",
       "...          ...       ...                                  ...       ...   \n",
       "541900    581587     22613          PACK OF 20 SPACEBOY NAPKINS        12   \n",
       "541901    581587     22899         CHILDREN'S APRON DOLLY GIRL          6   \n",
       "541902    581587     23254        CHILDRENS CUTLERY DOLLY GIRL          4   \n",
       "541903    581587     23255      CHILDRENS CUTLERY CIRCUS PARADE         4   \n",
       "541904    581587     22138        BAKING SET 9 PIECE RETROSPOT          3   \n",
       "\n",
       "             InvoiceDate  UnitPrice  CustomerID         Country  \n",
       "0       01-12-2010 08:26       2.55     17850.0  United Kingdom  \n",
       "1       01-12-2010 08:26       3.39     17850.0  United Kingdom  \n",
       "2       01-12-2010 08:26       2.75     17850.0  United Kingdom  \n",
       "3       01-12-2010 08:26       3.39     17850.0  United Kingdom  \n",
       "4       01-12-2010 08:26       3.39     17850.0  United Kingdom  \n",
       "...                  ...        ...         ...             ...  \n",
       "541900  09-12-2011 12:50       0.85     12680.0          France  \n",
       "541901  09-12-2011 12:50       2.10     12680.0          France  \n",
       "541902  09-12-2011 12:50       4.15     12680.0          France  \n",
       "541903  09-12-2011 12:50       4.15     12680.0          France  \n",
       "541904  09-12-2011 12:50       4.95     12680.0          France  \n",
       "\n",
       "[541905 rows x 8 columns]"
      ]
     },
     "execution_count": 6,
     "metadata": {},
     "output_type": "execute_result"
    }
   ],
   "source": [
    "# Let's peak into the data\n",
    "df"
   ]
  },
  {
   "cell_type": "code",
   "execution_count": 7,
   "id": "a4c9480a-032d-42b8-895f-be607e4388a8",
   "metadata": {},
   "outputs": [
    {
     "name": "stdout",
     "output_type": "stream",
     "text": [
      "<class 'pandas.core.frame.DataFrame'>\n",
      "RangeIndex: 541905 entries, 0 to 541904\n",
      "Data columns (total 8 columns):\n",
      " #   Column       Non-Null Count   Dtype  \n",
      "---  ------       --------------   -----  \n",
      " 0   InvoiceNo    541905 non-null  object \n",
      " 1   StockCode    541905 non-null  object \n",
      " 2   Description  540451 non-null  object \n",
      " 3   Quantity     541905 non-null  int64  \n",
      " 4   InvoiceDate  541905 non-null  object \n",
      " 5   UnitPrice    541905 non-null  float64\n",
      " 6   CustomerID   406825 non-null  float64\n",
      " 7   Country      541905 non-null  object \n",
      "dtypes: float64(2), int64(1), object(5)\n",
      "memory usage: 33.1+ MB\n",
      "None\n"
     ]
    }
   ],
   "source": [
    "# Basic information\n",
    "print(df.info())"
   ]
  },
  {
   "cell_type": "markdown",
   "id": "162a410a-2e9a-45fb-b83a-9b2df87c8de1",
   "metadata": {},
   "source": [
    "## Step 2: Data Cleaning"
   ]
  },
  {
   "cell_type": "code",
   "execution_count": 8,
   "id": "1d3113ab-da3b-4269-a0d6-ee50cf1fb275",
   "metadata": {},
   "outputs": [
    {
     "name": "stdout",
     "output_type": "stream",
     "text": [
      "InvoiceNo           0\n",
      "StockCode           0\n",
      "Description      1454\n",
      "Quantity            0\n",
      "InvoiceDate         0\n",
      "UnitPrice           0\n",
      "CustomerID     135080\n",
      "Country             0\n",
      "dtype: int64\n"
     ]
    }
   ],
   "source": [
    "# Check for missing values\n",
    "print(df.isnull().sum())"
   ]
  },
  {
   "cell_type": "code",
   "execution_count": 9,
   "id": "fee5026a-cdf7-4d00-8841-b16c71d134c2",
   "metadata": {},
   "outputs": [
    {
     "name": "stdout",
     "output_type": "stream",
     "text": [
      "InvoiceNo       0.000000\n",
      "StockCode       0.000000\n",
      "Description     0.268313\n",
      "Quantity        0.000000\n",
      "InvoiceDate     0.000000\n",
      "UnitPrice       0.000000\n",
      "CustomerID     24.926878\n",
      "Country         0.000000\n",
      "dtype: float64\n"
     ]
    }
   ],
   "source": [
    "# Let's check how the severe missing values is in percentage\n",
    "missing_percent = df.isnull().sum() / len(df) * 100\n",
    "print(missing_percent)\n"
   ]
  },
  {
   "cell_type": "code",
   "execution_count": 10,
   "id": "f6930d49-da7f-44d8-addd-9d70a9e120b0",
   "metadata": {},
   "outputs": [
    {
     "name": "stdout",
     "output_type": "stream",
     "text": [
      "       InvoiceNo StockCode                      Description  Quantity  \\\n",
      "622       536414     22139                              NaN        56   \n",
      "1443      536544     21773  DECORATIVE ROSE BATHROOM BOTTLE         1   \n",
      "1444      536544     21774  DECORATIVE CATS BATHROOM BOTTLE         2   \n",
      "1445      536544     21786               POLKADOT RAIN HAT          4   \n",
      "1446      536544     21787            RAIN PONCHO RETROSPOT         2   \n",
      "...          ...       ...                              ...       ...   \n",
      "541532    581498    85099B          JUMBO BAG RED RETROSPOT         5   \n",
      "541533    581498    85099C   JUMBO  BAG BAROQUE BLACK WHITE         4   \n",
      "541534    581498     85150    LADIES & GENTLEMEN METAL SIGN         1   \n",
      "541535    581498     85174                S/4 CACTI CANDLES         1   \n",
      "541536    581498       DOT                   DOTCOM POSTAGE         1   \n",
      "\n",
      "             InvoiceDate  UnitPrice  CustomerID         Country  \n",
      "622     01-12-2010 11:52       0.00         NaN  United Kingdom  \n",
      "1443    01-12-2010 14:32       2.51         NaN  United Kingdom  \n",
      "1444    01-12-2010 14:32       2.51         NaN  United Kingdom  \n",
      "1445    01-12-2010 14:32       0.85         NaN  United Kingdom  \n",
      "1446    01-12-2010 14:32       1.66         NaN  United Kingdom  \n",
      "...                  ...        ...         ...             ...  \n",
      "541532  09-12-2011 10:26       4.13         NaN  United Kingdom  \n",
      "541533  09-12-2011 10:26       4.13         NaN  United Kingdom  \n",
      "541534  09-12-2011 10:26       4.96         NaN  United Kingdom  \n",
      "541535  09-12-2011 10:26      10.79         NaN  United Kingdom  \n",
      "541536  09-12-2011 10:26    1714.17         NaN  United Kingdom  \n",
      "\n",
      "[135080 rows x 8 columns]\n"
     ]
    }
   ],
   "source": [
    "missing_customerid = df[df['CustomerID'].isnull()]\n",
    "print(missing_customerid)"
   ]
  },
  {
   "cell_type": "code",
   "execution_count": 11,
   "id": "e2d92fd2-225e-41f9-8ef9-b7200849c09b",
   "metadata": {},
   "outputs": [
    {
     "name": "stdout",
     "output_type": "stream",
     "text": [
      "       InvoiceNo StockCode                          Description  Quantity  \\\n",
      "0         536365    85123A   WHITE HANGING HEART T-LIGHT HOLDER         6   \n",
      "1         536365     71053                  WHITE METAL LANTERN         6   \n",
      "2         536365    84406B       CREAM CUPID HEARTS COAT HANGER         8   \n",
      "3         536365    84029G  KNITTED UNION FLAG HOT WATER BOTTLE         6   \n",
      "4         536365    84029E       RED WOOLLY HOTTIE WHITE HEART.         6   \n",
      "...          ...       ...                                  ...       ...   \n",
      "541900    581587     22613          PACK OF 20 SPACEBOY NAPKINS        12   \n",
      "541901    581587     22899         CHILDREN'S APRON DOLLY GIRL          6   \n",
      "541902    581587     23254        CHILDRENS CUTLERY DOLLY GIRL          4   \n",
      "541903    581587     23255      CHILDRENS CUTLERY CIRCUS PARADE         4   \n",
      "541904    581587     22138        BAKING SET 9 PIECE RETROSPOT          3   \n",
      "\n",
      "             InvoiceDate  UnitPrice CustomerID         Country  \\\n",
      "0       01-12-2010 08:26       2.55    17850.0  United Kingdom   \n",
      "1       01-12-2010 08:26       3.39    17850.0  United Kingdom   \n",
      "2       01-12-2010 08:26       2.75    17850.0  United Kingdom   \n",
      "3       01-12-2010 08:26       3.39    17850.0  United Kingdom   \n",
      "4       01-12-2010 08:26       3.39    17850.0  United Kingdom   \n",
      "...                  ...        ...        ...             ...   \n",
      "541900  09-12-2011 12:50       0.85    12680.0          France   \n",
      "541901  09-12-2011 12:50       2.10    12680.0          France   \n",
      "541902  09-12-2011 12:50       4.15    12680.0          France   \n",
      "541903  09-12-2011 12:50       4.15    12680.0          France   \n",
      "541904  09-12-2011 12:50       4.95    12680.0          France   \n",
      "\n",
      "        CustomerID_flag  \n",
      "0                     1  \n",
      "1                     1  \n",
      "2                     1  \n",
      "3                     1  \n",
      "4                     1  \n",
      "...                 ...  \n",
      "541900                1  \n",
      "541901                1  \n",
      "541902                1  \n",
      "541903                1  \n",
      "541904                1  \n",
      "\n",
      "[541905 rows x 9 columns]\n"
     ]
    }
   ],
   "source": [
    "# First, fill the missing CustomerID with 'Unknown'\n",
    "df['CustomerID'] = df['CustomerID'].fillna('Unknown')\n",
    "\n",
    "# Create the flag column: 1 for known customers, 0 for unknown customers\n",
    "df['CustomerID_flag'] = (df['CustomerID'] != 'Unknown').astype(int)\n",
    "\n",
    "# Check the result\n",
    "print(df)"
   ]
  },
  {
   "cell_type": "code",
   "execution_count": 12,
   "id": "5db21380-0d6d-41ce-a6bb-dcc55ca49fdf",
   "metadata": {},
   "outputs": [],
   "source": [
    "# Handling Decription missing values. Many data is also missing in such rows.\n",
    "df = df.dropna(subset=['Description'])"
   ]
  },
  {
   "cell_type": "code",
   "execution_count": 13,
   "id": "47c50cb8-74f7-4a84-bd78-0f820975657b",
   "metadata": {},
   "outputs": [
    {
     "data": {
      "text/plain": [
       "InvoiceNo          0\n",
       "StockCode          0\n",
       "Description        0\n",
       "Quantity           0\n",
       "InvoiceDate        0\n",
       "UnitPrice          0\n",
       "CustomerID         0\n",
       "Country            0\n",
       "CustomerID_flag    0\n",
       "dtype: int64"
      ]
     },
     "execution_count": 13,
     "metadata": {},
     "output_type": "execute_result"
    }
   ],
   "source": [
    "df.isnull().sum()"
   ]
  },
  {
   "cell_type": "code",
   "execution_count": 14,
   "id": "98c6dca7-121a-46d9-8b40-d2f501e03050",
   "metadata": {},
   "outputs": [
    {
     "name": "stdout",
     "output_type": "stream",
     "text": [
      "5268\n"
     ]
    }
   ],
   "source": [
    "# Check for Duplicate entries\n",
    "print(df.duplicated().sum())"
   ]
  },
  {
   "cell_type": "code",
   "execution_count": 15,
   "id": "3db96e5c-8149-458a-b1f7-ea188df23546",
   "metadata": {},
   "outputs": [
    {
     "name": "stdout",
     "output_type": "stream",
     "text": [
      "       InvoiceNo StockCode                        Description  Quantity  \\\n",
      "517       536409     21866        UNION JACK FLAG LUGGAGE TAG         1   \n",
      "527       536409     22866      HAND WARMER SCOTTY DOG DESIGN         1   \n",
      "537       536409     22900    SET 2 TEA TOWELS I LOVE LONDON          1   \n",
      "539       536409     22111       SCOTTIE DOG HOT WATER BOTTLE         1   \n",
      "555       536412     22327  ROUND SNACK BOXES SET OF 4 SKULLS         1   \n",
      "...          ...       ...                                ...       ...   \n",
      "541671    581538     22068        BLACK PIRATE TREASURE CHEST         1   \n",
      "541685    581538     23318     BOX OF 6 MINI VINTAGE CRACKERS         1   \n",
      "541688    581538     22992             REVOLVER WOODEN RULER          1   \n",
      "541695    581538     22694                       WICKER STAR          1   \n",
      "541697    581538     23343       JUMBO BAG VINTAGE CHRISTMAS          1   \n",
      "\n",
      "             InvoiceDate  UnitPrice CustomerID         Country  \\\n",
      "517     01-12-2010 11:45       1.25    17908.0  United Kingdom   \n",
      "527     01-12-2010 11:45       2.10    17908.0  United Kingdom   \n",
      "537     01-12-2010 11:45       2.95    17908.0  United Kingdom   \n",
      "539     01-12-2010 11:45       4.95    17908.0  United Kingdom   \n",
      "555     01-12-2010 11:49       2.95    17920.0  United Kingdom   \n",
      "...                  ...        ...        ...             ...   \n",
      "541671  09-12-2011 11:34       0.39    14446.0  United Kingdom   \n",
      "541685  09-12-2011 11:34       2.49    14446.0  United Kingdom   \n",
      "541688  09-12-2011 11:34       1.95    14446.0  United Kingdom   \n",
      "541695  09-12-2011 11:34       2.10    14446.0  United Kingdom   \n",
      "541697  09-12-2011 11:34       2.08    14446.0  United Kingdom   \n",
      "\n",
      "        CustomerID_flag  \n",
      "517                   1  \n",
      "527                   1  \n",
      "537                   1  \n",
      "539                   1  \n",
      "555                   1  \n",
      "...                 ...  \n",
      "541671                1  \n",
      "541685                1  \n",
      "541688                1  \n",
      "541695                1  \n",
      "541697                1  \n",
      "\n",
      "[5268 rows x 9 columns]\n"
     ]
    }
   ],
   "source": [
    "# Display raws that are duplicates\n",
    "duplicate_raws = df[df.duplicated()]\n",
    "print(duplicate_raws)"
   ]
  },
  {
   "cell_type": "code",
   "execution_count": 16,
   "id": "2a98c2a6-a95d-4f7e-94ac-e6166dba6437",
   "metadata": {},
   "outputs": [
    {
     "data": {
      "text/plain": [
       "5268"
      ]
     },
     "execution_count": 16,
     "metadata": {},
     "output_type": "execute_result"
    }
   ],
   "source": [
    "import re\n",
    "# Strip whitespace from all string columns\n",
    "df = df.map(lambda x: x.strip() if isinstance(x, str) else x)\n",
    "\n",
    "# Remove non-printable characters from all string columns\n",
    "df = df.map(lambda x: re.sub(r'\\s+', ' ', x) if isinstance(x, str) else x)\n",
    "# Convert all string columns to lowercase\n",
    "df['Description'] = df['Description'].str.lower()\n",
    "df['Country'] = df['Country'].str.lower()\n",
    "\n",
    "# Check for duplicates across all columns\n",
    "df.duplicated().sum()\n"
   ]
  },
  {
   "cell_type": "markdown",
   "id": "a9d652a2-90da-460e-a595-88a8a1189c30",
   "metadata": {},
   "source": [
    "## Duplicate Check Explanation\n",
    "\n",
    "In reviewing the dataset, we performed a check for duplicate entries based on the following key columns:\n",
    "\n",
    "- **InvoiceNo**: Each invoice number is typically unique to a transaction. However, when multiple items are purchased under the same invoice, there will be multiple entries with the same **InvoiceNo**.\n",
    "\n",
    "- **Quantity**: The quantity of items purchased can vary for each entry within the same invoice, resulting in separate rows for different items.\n",
    "\n",
    "- **InvoiceDate**: The invoice date is generally the same for all items in a single transaction, but slight variations in the exact time recorded might cause multiple rows to appear.\n",
    "\n",
    "- **CustomerID**: The **CustomerID** corresponds to the customer making the purchase. Since a customer may buy multiple items under the same invoice, this will appear as repeated rows for the same transaction.\n",
    "\n",
    "- **Country**: The **Country** indicates the location of the customer. Multiple items from the same invoice may share the same country, which results in multiple rows under the same country for the same customer.\n",
    "\n",
    "### Conclusion:\n",
    "\n",
    "After investigating, we confirm that the dataset does not contain true duplicate rows. The system marks multiple entries as duplicates because these columns (InvoiceNo, Quantity, InvoiceDate, CustomerID, and Country) may repeat for the same transaction, where different items are bought under the same invoice.\n",
    "\n",
    "These entries are not actual duplicates but represent different items purchased under the same invoice. If necessary, we can remove entries considered duplicates based on these columns or further refine the analysis criteria.\n",
    "\n"
   ]
  },
  {
   "cell_type": "code",
   "execution_count": 17,
   "id": "4863ed68-50c5-4913-970a-d95a7fb1f24e",
   "metadata": {},
   "outputs": [
    {
     "name": "stdout",
     "output_type": "stream",
     "text": [
      "9762\n"
     ]
    }
   ],
   "source": [
    "# Let's find out invalid or negative quantities.\n",
    "print((df['Quantity'] <= 0).sum())"
   ]
  },
  {
   "cell_type": "code",
   "execution_count": 18,
   "id": "57bb1a91-c798-47ef-a29c-3d5ae5453663",
   "metadata": {},
   "outputs": [
    {
     "name": "stdout",
     "output_type": "stream",
     "text": [
      "       InvoiceNo StockCode                       Description  Quantity  \\\n",
      "141      C536379         D                          discount        -1   \n",
      "154      C536383    35004C    set of 3 coloured flying ducks        -1   \n",
      "235      C536391     22556     plasters in tin circus parade       -12   \n",
      "236      C536391     21984   pack of 12 pink paisley tissues       -24   \n",
      "237      C536391     21983   pack of 12 blue paisley tissues       -24   \n",
      "...          ...       ...                               ...       ...   \n",
      "540445   C581490     23144   zinc t-light holder stars small       -11   \n",
      "541537   C581499         M                            manual        -1   \n",
      "541711   C581568     21258        victorian sewing box large        -5   \n",
      "541712   C581569     84978  hanging heart jar t-light holder        -1   \n",
      "541713   C581569     20979     36 pencils tube red retrospot        -5   \n",
      "\n",
      "             InvoiceDate  UnitPrice CustomerID         Country  \\\n",
      "141     01-12-2010 09:41      27.50    14527.0  united kingdom   \n",
      "154     01-12-2010 09:49       4.65    15311.0  united kingdom   \n",
      "235     01-12-2010 10:24       1.65    17548.0  united kingdom   \n",
      "236     01-12-2010 10:24       0.29    17548.0  united kingdom   \n",
      "237     01-12-2010 10:24       0.29    17548.0  united kingdom   \n",
      "...                  ...        ...        ...             ...   \n",
      "540445  09-12-2011 09:57       0.83    14397.0  united kingdom   \n",
      "541537  09-12-2011 10:28     224.69    15498.0  united kingdom   \n",
      "541711  09-12-2011 11:57      10.95    15311.0  united kingdom   \n",
      "541712  09-12-2011 11:58       1.25    17315.0  united kingdom   \n",
      "541713  09-12-2011 11:58       1.25    17315.0  united kingdom   \n",
      "\n",
      "        CustomerID_flag  \n",
      "141                   1  \n",
      "154                   1  \n",
      "235                   1  \n",
      "236                   1  \n",
      "237                   1  \n",
      "...                 ...  \n",
      "540445                1  \n",
      "541537                1  \n",
      "541711                1  \n",
      "541712                1  \n",
      "541713                1  \n",
      "\n",
      "[9762 rows x 9 columns]\n"
     ]
    }
   ],
   "source": [
    "negative_quantity = df[df['Quantity'] <=0]\n",
    "print(negative_quantity)"
   ]
  },
  {
   "cell_type": "code",
   "execution_count": 19,
   "id": "9f7433a3-1276-436d-9c2d-c8cb42496f81",
   "metadata": {},
   "outputs": [],
   "source": [
    "# Flag negative quantities for potential future analysis, allowing for further exploration if needed.\n",
    "df['Negative_Quantity_Flag'] = df['Quantity'].apply(lambda x: 1 if x < 0 else 0)"
   ]
  },
  {
   "cell_type": "code",
   "execution_count": 20,
   "id": "f7c0be53-5d7b-4559-99fd-2a7cae6b1d9b",
   "metadata": {},
   "outputs": [
    {
     "name": "stdout",
     "output_type": "stream",
     "text": [
      "1061\n"
     ]
    }
   ],
   "source": [
    "# Count rows where unitprice is zero\n",
    "zero_unitprice_count = (df['UnitPrice'] == 0).sum()\n",
    "\n",
    "print(zero_unitprice_count)\n"
   ]
  },
  {
   "cell_type": "code",
   "execution_count": 21,
   "id": "24515704-78c6-44d4-b51b-378ac2f55d73",
   "metadata": {},
   "outputs": [
    {
     "name": "stdout",
     "output_type": "stream",
     "text": [
      "                         Description  UnitPrice\n",
      "6391                          amazon        0.0\n",
      "6392                          amazon        0.0\n",
      "7313                               ?        0.0\n",
      "9302    round cake tin vintage green        0.0\n",
      "13217                          check        0.0\n",
      "...                              ...        ...\n",
      "535332                         check        0.0\n",
      "536904                       missing        0.0\n",
      "538500  polyester filler pad 45x45cm        0.0\n",
      "538501  polyester filler pad 40x40cm        0.0\n",
      "538915                       smashed        0.0\n",
      "\n",
      "[1061 rows x 2 columns]\n"
     ]
    }
   ],
   "source": [
    "# Filter rows where unitprice is zero\n",
    "rows_with_zero_unitprice = df[df['UnitPrice'] == 0]\n",
    "\n",
    "# Display rows with zero unitprice and their descriptions\n",
    "print(rows_with_zero_unitprice[['Description', 'UnitPrice']])"
   ]
  },
  {
   "cell_type": "code",
   "execution_count": 22,
   "id": "0baab034-741f-4066-80d6-427cdd0fd244",
   "metadata": {},
   "outputs": [
    {
     "name": "stdout",
     "output_type": "stream",
     "text": [
      "      InvoiceNo StockCode                   Description  Quantity  \\\n",
      "6391     536941     22734                        amazon        20   \n",
      "6392     536942     22139                        amazon        15   \n",
      "7313     537032     21275                             ?       -30   \n",
      "9302     537197     22841  round cake tin vintage green         1   \n",
      "13217    537425    84968F                         check       -20   \n",
      "\n",
      "            InvoiceDate  UnitPrice CustomerID         Country  \\\n",
      "6391   03-12-2010 12:08        NaN    Unknown  united kingdom   \n",
      "6392   03-12-2010 12:08        NaN    Unknown  united kingdom   \n",
      "7313   03-12-2010 16:50        NaN    Unknown  united kingdom   \n",
      "9302   05-12-2010 14:02        NaN    12647.0         germany   \n",
      "13217  06-12-2010 15:35        NaN    Unknown  united kingdom   \n",
      "\n",
      "       CustomerID_flag  Negative_Quantity_Flag  \n",
      "6391                 0                       0  \n",
      "6392                 0                       0  \n",
      "7313                 0                       1  \n",
      "9302                 1                       0  \n",
      "13217                0                       1  \n"
     ]
    }
   ],
   "source": [
    "# Replace 0 values in Quantity with NaN\n",
    "df['UnitPrice'] = df['UnitPrice'].replace(0, np.nan)\n",
    "\n",
    "# Check the result\n",
    "print(df[df['UnitPrice'].isna()].head())"
   ]
  },
  {
   "cell_type": "code",
   "execution_count": 23,
   "id": "a5be5bab-4726-49a2-9ac3-17e18213929b",
   "metadata": {},
   "outputs": [
    {
     "name": "stdout",
     "output_type": "stream",
     "text": [
      "Empty DataFrame\n",
      "Columns: [InvoiceNo, StockCode, Description, Quantity, InvoiceDate, UnitPrice, CustomerID, Country, CustomerID_flag, Negative_Quantity_Flag]\n",
      "Index: []\n"
     ]
    }
   ],
   "source": [
    "# Let's do the Imputation\n",
    "# Impute missing UnitPrice by StockCode (mean of UnitPrice by StockCode)\n",
    "df['UnitPrice'] = df.groupby('StockCode')['UnitPrice'].transform(lambda x: x.fillna(x.mean()))\n",
    "\n",
    "# Impute remaining missing UnitPrice by Description (mean of UnitPrice by Description)\n",
    "df['UnitPrice'] = df.groupby('Description')['UnitPrice'].transform(lambda x: x.fillna(x.mean()))\n",
    "\n",
    "# If any values are still missing, impute with the global mean of UnitPrice\n",
    "df['UnitPrice'] = df['UnitPrice'].fillna(df['UnitPrice'].mean())\n",
    "\n",
    "# Verifying if any missing values remain\n",
    "print(df[df['UnitPrice'].isna()])"
   ]
  },
  {
   "cell_type": "code",
   "execution_count": 24,
   "id": "4f8b656c-0523-41d5-bfba-6123fc942414",
   "metadata": {},
   "outputs": [
    {
     "name": "stdout",
     "output_type": "stream",
     "text": [
      "Empty DataFrame\n",
      "Columns: [InvoiceNo, StockCode, Description, Quantity, InvoiceDate, UnitPrice, CustomerID, Country, CustomerID_flag, Negative_Quantity_Flag]\n",
      "Index: []\n"
     ]
    }
   ],
   "source": [
    "# let's check further.\n",
    "print(df[df['UnitPrice'].isna() | (df['UnitPrice'] == 0)])"
   ]
  },
  {
   "cell_type": "code",
   "execution_count": 25,
   "id": "d7a494c4-9277-40f6-b8c5-478ddbb63384",
   "metadata": {},
   "outputs": [
    {
     "name": "stdout",
     "output_type": "stream",
     "text": [
      "count    540451.000000\n",
      "mean          4.637419\n",
      "std          96.900040\n",
      "min      -11062.060000\n",
      "25%           1.250000\n",
      "50%           2.080000\n",
      "75%           4.130000\n",
      "max       38970.000000\n",
      "Name: UnitPrice, dtype: float64\n",
      "  InvoiceNo StockCode                          Description  Quantity  \\\n",
      "0    536365    85123A   white hanging heart t-light holder         6   \n",
      "1    536365     71053                  white metal lantern         6   \n",
      "2    536365    84406B       cream cupid hearts coat hanger         8   \n",
      "3    536365    84029G  knitted union flag hot water bottle         6   \n",
      "4    536365    84029E       red woolly hottie white heart.         6   \n",
      "\n",
      "        InvoiceDate  UnitPrice CustomerID         Country  CustomerID_flag  \\\n",
      "0  01-12-2010 08:26       2.55    17850.0  united kingdom                1   \n",
      "1  01-12-2010 08:26       3.39    17850.0  united kingdom                1   \n",
      "2  01-12-2010 08:26       2.75    17850.0  united kingdom                1   \n",
      "3  01-12-2010 08:26       3.39    17850.0  united kingdom                1   \n",
      "4  01-12-2010 08:26       3.39    17850.0  united kingdom                1   \n",
      "\n",
      "   Negative_Quantity_Flag  \n",
      "0                       0  \n",
      "1                       0  \n",
      "2                       0  \n",
      "3                       0  \n",
      "4                       0  \n"
     ]
    }
   ],
   "source": [
    "# Check the summary statistics of UnitPrice\n",
    "print(df['UnitPrice'].describe())\n",
    "\n",
    "# Check the first few rows to ensure imputation worked correctly\n",
    "print(df.head())"
   ]
  },
  {
   "cell_type": "code",
   "execution_count": 26,
   "id": "fd5021f0-0c60-436f-b79a-050ae562a53b",
   "metadata": {},
   "outputs": [
    {
     "name": "stdout",
     "output_type": "stream",
     "text": [
      "       InvoiceNo StockCode      Description  Quantity       InvoiceDate  \\\n",
      "299981   A563186         B  adjust bad debt         1  12-08-2011 14:51   \n",
      "299982   A563187         B  adjust bad debt         1  12-08-2011 14:52   \n",
      "\n",
      "        UnitPrice CustomerID         Country  CustomerID_flag  \\\n",
      "299981  -11062.06    Unknown  united kingdom                0   \n",
      "299982  -11062.06    Unknown  united kingdom                0   \n",
      "\n",
      "        Negative_Quantity_Flag  \n",
      "299981                       0  \n",
      "299982                       0  \n"
     ]
    }
   ],
   "source": [
    "# Check rows with extreme UnitPrice values\n",
    "extreme_values = df[df['UnitPrice'] < 0 | (df['UnitPrice'] > 1000)]\n",
    "print(extreme_values)"
   ]
  },
  {
   "cell_type": "code",
   "execution_count": 28,
   "id": "774b9a80-0c9d-471b-8117-55693c0dc165",
   "metadata": {},
   "outputs": [],
   "source": [
    "df = df[df['UnitPrice'] > 0]"
   ]
  },
  {
   "cell_type": "code",
   "execution_count": 29,
   "id": "b65f4df1-e22d-42ff-afad-4cc92d3e355d",
   "metadata": {},
   "outputs": [],
   "source": [
    "# Remove rows where Description contains \"adjust bad debt\"\n",
    "df = df[~df['Description'].str.contains('adjust bad debt', case=False, na=False)]"
   ]
  },
  {
   "cell_type": "code",
   "execution_count": 30,
   "id": "1a6f0bb2-738a-464a-b323-45c1627c21f2",
   "metadata": {},
   "outputs": [
    {
     "name": "stdout",
     "output_type": "stream",
     "text": [
      "Empty DataFrame\n",
      "Columns: [InvoiceNo, StockCode, Description, Quantity, InvoiceDate, UnitPrice, CustomerID, Country, CustomerID_flag, Negative_Quantity_Flag]\n",
      "Index: []\n"
     ]
    }
   ],
   "source": [
    "# Check rows with extreme UnitPrice values\n",
    "extreme_values = df[df['UnitPrice'] < 0 | (df['UnitPrice'] > 1000)]\n",
    "print(extreme_values)"
   ]
  },
  {
   "cell_type": "code",
   "execution_count": 31,
   "id": "c30aeba8-1967-4d82-b428-2cbb2e97c19b",
   "metadata": {},
   "outputs": [
    {
     "data": {
      "text/html": [
       "<div>\n",
       "<style scoped>\n",
       "    .dataframe tbody tr th:only-of-type {\n",
       "        vertical-align: middle;\n",
       "    }\n",
       "\n",
       "    .dataframe tbody tr th {\n",
       "        vertical-align: top;\n",
       "    }\n",
       "\n",
       "    .dataframe thead th {\n",
       "        text-align: right;\n",
       "    }\n",
       "</style>\n",
       "<table border=\"1\" class=\"dataframe\">\n",
       "  <thead>\n",
       "    <tr style=\"text-align: right;\">\n",
       "      <th></th>\n",
       "      <th>InvoiceNo</th>\n",
       "      <th>StockCode</th>\n",
       "      <th>Description</th>\n",
       "      <th>Quantity</th>\n",
       "      <th>InvoiceDate</th>\n",
       "      <th>UnitPrice</th>\n",
       "      <th>CustomerID</th>\n",
       "      <th>Country</th>\n",
       "      <th>CustomerID_flag</th>\n",
       "      <th>Negative_Quantity_Flag</th>\n",
       "    </tr>\n",
       "  </thead>\n",
       "  <tbody>\n",
       "    <tr>\n",
       "      <th>0</th>\n",
       "      <td>536365</td>\n",
       "      <td>85123A</td>\n",
       "      <td>white hanging heart t-light holder</td>\n",
       "      <td>6</td>\n",
       "      <td>01-12-2010 08:26</td>\n",
       "      <td>2.55</td>\n",
       "      <td>17850.0</td>\n",
       "      <td>united kingdom</td>\n",
       "      <td>1</td>\n",
       "      <td>0</td>\n",
       "    </tr>\n",
       "    <tr>\n",
       "      <th>1</th>\n",
       "      <td>536365</td>\n",
       "      <td>71053</td>\n",
       "      <td>white metal lantern</td>\n",
       "      <td>6</td>\n",
       "      <td>01-12-2010 08:26</td>\n",
       "      <td>3.39</td>\n",
       "      <td>17850.0</td>\n",
       "      <td>united kingdom</td>\n",
       "      <td>1</td>\n",
       "      <td>0</td>\n",
       "    </tr>\n",
       "    <tr>\n",
       "      <th>2</th>\n",
       "      <td>536365</td>\n",
       "      <td>84406B</td>\n",
       "      <td>cream cupid hearts coat hanger</td>\n",
       "      <td>8</td>\n",
       "      <td>01-12-2010 08:26</td>\n",
       "      <td>2.75</td>\n",
       "      <td>17850.0</td>\n",
       "      <td>united kingdom</td>\n",
       "      <td>1</td>\n",
       "      <td>0</td>\n",
       "    </tr>\n",
       "    <tr>\n",
       "      <th>3</th>\n",
       "      <td>536365</td>\n",
       "      <td>84029G</td>\n",
       "      <td>knitted union flag hot water bottle</td>\n",
       "      <td>6</td>\n",
       "      <td>01-12-2010 08:26</td>\n",
       "      <td>3.39</td>\n",
       "      <td>17850.0</td>\n",
       "      <td>united kingdom</td>\n",
       "      <td>1</td>\n",
       "      <td>0</td>\n",
       "    </tr>\n",
       "    <tr>\n",
       "      <th>4</th>\n",
       "      <td>536365</td>\n",
       "      <td>84029E</td>\n",
       "      <td>red woolly hottie white heart.</td>\n",
       "      <td>6</td>\n",
       "      <td>01-12-2010 08:26</td>\n",
       "      <td>3.39</td>\n",
       "      <td>17850.0</td>\n",
       "      <td>united kingdom</td>\n",
       "      <td>1</td>\n",
       "      <td>0</td>\n",
       "    </tr>\n",
       "    <tr>\n",
       "      <th>...</th>\n",
       "      <td>...</td>\n",
       "      <td>...</td>\n",
       "      <td>...</td>\n",
       "      <td>...</td>\n",
       "      <td>...</td>\n",
       "      <td>...</td>\n",
       "      <td>...</td>\n",
       "      <td>...</td>\n",
       "      <td>...</td>\n",
       "      <td>...</td>\n",
       "    </tr>\n",
       "    <tr>\n",
       "      <th>541900</th>\n",
       "      <td>581587</td>\n",
       "      <td>22613</td>\n",
       "      <td>pack of 20 spaceboy napkins</td>\n",
       "      <td>12</td>\n",
       "      <td>09-12-2011 12:50</td>\n",
       "      <td>0.85</td>\n",
       "      <td>12680.0</td>\n",
       "      <td>france</td>\n",
       "      <td>1</td>\n",
       "      <td>0</td>\n",
       "    </tr>\n",
       "    <tr>\n",
       "      <th>541901</th>\n",
       "      <td>581587</td>\n",
       "      <td>22899</td>\n",
       "      <td>children's apron dolly girl</td>\n",
       "      <td>6</td>\n",
       "      <td>09-12-2011 12:50</td>\n",
       "      <td>2.10</td>\n",
       "      <td>12680.0</td>\n",
       "      <td>france</td>\n",
       "      <td>1</td>\n",
       "      <td>0</td>\n",
       "    </tr>\n",
       "    <tr>\n",
       "      <th>541902</th>\n",
       "      <td>581587</td>\n",
       "      <td>23254</td>\n",
       "      <td>childrens cutlery dolly girl</td>\n",
       "      <td>4</td>\n",
       "      <td>09-12-2011 12:50</td>\n",
       "      <td>4.15</td>\n",
       "      <td>12680.0</td>\n",
       "      <td>france</td>\n",
       "      <td>1</td>\n",
       "      <td>0</td>\n",
       "    </tr>\n",
       "    <tr>\n",
       "      <th>541903</th>\n",
       "      <td>581587</td>\n",
       "      <td>23255</td>\n",
       "      <td>childrens cutlery circus parade</td>\n",
       "      <td>4</td>\n",
       "      <td>09-12-2011 12:50</td>\n",
       "      <td>4.15</td>\n",
       "      <td>12680.0</td>\n",
       "      <td>france</td>\n",
       "      <td>1</td>\n",
       "      <td>0</td>\n",
       "    </tr>\n",
       "    <tr>\n",
       "      <th>541904</th>\n",
       "      <td>581587</td>\n",
       "      <td>22138</td>\n",
       "      <td>baking set 9 piece retrospot</td>\n",
       "      <td>3</td>\n",
       "      <td>09-12-2011 12:50</td>\n",
       "      <td>4.95</td>\n",
       "      <td>12680.0</td>\n",
       "      <td>france</td>\n",
       "      <td>1</td>\n",
       "      <td>0</td>\n",
       "    </tr>\n",
       "  </tbody>\n",
       "</table>\n",
       "<p>540448 rows × 10 columns</p>\n",
       "</div>"
      ],
      "text/plain": [
       "       InvoiceNo StockCode                          Description  Quantity  \\\n",
       "0         536365    85123A   white hanging heart t-light holder         6   \n",
       "1         536365     71053                  white metal lantern         6   \n",
       "2         536365    84406B       cream cupid hearts coat hanger         8   \n",
       "3         536365    84029G  knitted union flag hot water bottle         6   \n",
       "4         536365    84029E       red woolly hottie white heart.         6   \n",
       "...          ...       ...                                  ...       ...   \n",
       "541900    581587     22613          pack of 20 spaceboy napkins        12   \n",
       "541901    581587     22899          children's apron dolly girl         6   \n",
       "541902    581587     23254         childrens cutlery dolly girl         4   \n",
       "541903    581587     23255      childrens cutlery circus parade         4   \n",
       "541904    581587     22138         baking set 9 piece retrospot         3   \n",
       "\n",
       "             InvoiceDate  UnitPrice CustomerID         Country  \\\n",
       "0       01-12-2010 08:26       2.55    17850.0  united kingdom   \n",
       "1       01-12-2010 08:26       3.39    17850.0  united kingdom   \n",
       "2       01-12-2010 08:26       2.75    17850.0  united kingdom   \n",
       "3       01-12-2010 08:26       3.39    17850.0  united kingdom   \n",
       "4       01-12-2010 08:26       3.39    17850.0  united kingdom   \n",
       "...                  ...        ...        ...             ...   \n",
       "541900  09-12-2011 12:50       0.85    12680.0          france   \n",
       "541901  09-12-2011 12:50       2.10    12680.0          france   \n",
       "541902  09-12-2011 12:50       4.15    12680.0          france   \n",
       "541903  09-12-2011 12:50       4.15    12680.0          france   \n",
       "541904  09-12-2011 12:50       4.95    12680.0          france   \n",
       "\n",
       "        CustomerID_flag  Negative_Quantity_Flag  \n",
       "0                     1                       0  \n",
       "1                     1                       0  \n",
       "2                     1                       0  \n",
       "3                     1                       0  \n",
       "4                     1                       0  \n",
       "...                 ...                     ...  \n",
       "541900                1                       0  \n",
       "541901                1                       0  \n",
       "541902                1                       0  \n",
       "541903                1                       0  \n",
       "541904                1                       0  \n",
       "\n",
       "[540448 rows x 10 columns]"
      ]
     },
     "execution_count": 31,
     "metadata": {},
     "output_type": "execute_result"
    }
   ],
   "source": [
    "df"
   ]
  },
  {
   "cell_type": "code",
   "execution_count": 32,
   "id": "3ccaa477-ae2e-417f-86ad-4be3d1b5e2eb",
   "metadata": {},
   "outputs": [
    {
     "name": "stdout",
     "output_type": "stream",
     "text": [
      "       InvoiceNo StockCode                          Description  Quantity  \\\n",
      "0         536365    85123A   white hanging heart t-light holder         6   \n",
      "1         536365     71053                  white metal lantern         6   \n",
      "2         536365    84406B       cream cupid hearts coat hanger         8   \n",
      "3         536365    84029G  knitted union flag hot water bottle         6   \n",
      "4         536365    84029E       red woolly hottie white heart.         6   \n",
      "...          ...       ...                                  ...       ...   \n",
      "541900    581587     22613          pack of 20 spaceboy napkins        12   \n",
      "541901    581587     22899          children's apron dolly girl         6   \n",
      "541902    581587     23254         childrens cutlery dolly girl         4   \n",
      "541903    581587     23255      childrens cutlery circus parade         4   \n",
      "541904    581587     22138         baking set 9 piece retrospot         3   \n",
      "\n",
      "             InvoiceDate  UnitPrice CustomerID         Country  \\\n",
      "0       01-12-2010 08:26       2.55    17850.0  united kingdom   \n",
      "1       01-12-2010 08:26       3.39    17850.0  united kingdom   \n",
      "2       01-12-2010 08:26       2.75    17850.0  united kingdom   \n",
      "3       01-12-2010 08:26       3.39    17850.0  united kingdom   \n",
      "4       01-12-2010 08:26       3.39    17850.0  united kingdom   \n",
      "...                  ...        ...        ...             ...   \n",
      "541900  09-12-2011 12:50       0.85    12680.0          france   \n",
      "541901  09-12-2011 12:50       2.10    12680.0          france   \n",
      "541902  09-12-2011 12:50       4.15    12680.0          france   \n",
      "541903  09-12-2011 12:50       4.15    12680.0          france   \n",
      "541904  09-12-2011 12:50       4.95    12680.0          france   \n",
      "\n",
      "        CustomerID_flag  Negative_Quantity_Flag  TotalPrice  \n",
      "0                     1                       0       15.30  \n",
      "1                     1                       0       20.34  \n",
      "2                     1                       0       22.00  \n",
      "3                     1                       0       20.34  \n",
      "4                     1                       0       20.34  \n",
      "...                 ...                     ...         ...  \n",
      "541900                1                       0       10.20  \n",
      "541901                1                       0       12.60  \n",
      "541902                1                       0       16.60  \n",
      "541903                1                       0       16.60  \n",
      "541904                1                       0       14.85  \n",
      "\n",
      "[540448 rows x 11 columns]\n"
     ]
    }
   ],
   "source": [
    "# Create Total Price column\n",
    "df['TotalPrice'] = df['Quantity'] * df['UnitPrice']\n",
    "\n",
    "print(df)"
   ]
  },
  {
   "cell_type": "code",
   "execution_count": 33,
   "id": "11a20edd-87ab-4433-811b-ab03848abc9e",
   "metadata": {},
   "outputs": [],
   "source": [
    "df.to_csv(r'C:\\Users\\Lenovo\\Downloads\\segmenting_customers.csv', index=False)"
   ]
  },
  {
   "cell_type": "code",
   "execution_count": 33,
   "id": "1587c862-3d9f-40f7-9c37-0ff8591b5dcc",
   "metadata": {},
   "outputs": [
    {
     "name": "stdout",
     "output_type": "stream",
     "text": [
      "Cleaned Data:\n"
     ]
    }
   ],
   "source": [
    "print(\"Cleaned Data:\")"
   ]
  }
 ],
 "metadata": {
  "kernelspec": {
   "display_name": "Python 3 (ipykernel)",
   "language": "python",
   "name": "python3"
  },
  "language_info": {
   "codemirror_mode": {
    "name": "ipython",
    "version": 3
   },
   "file_extension": ".py",
   "mimetype": "text/x-python",
   "name": "python",
   "nbconvert_exporter": "python",
   "pygments_lexer": "ipython3",
   "version": "3.9.19"
  }
 },
 "nbformat": 4,
 "nbformat_minor": 5
}
